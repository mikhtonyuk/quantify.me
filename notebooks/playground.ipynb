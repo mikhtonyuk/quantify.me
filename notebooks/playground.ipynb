{
 "cells": [
  {
   "cell_type": "code",
   "execution_count": null,
   "metadata": {},
   "outputs": [],
   "source": [
    "%pylab\n",
    "%matplotlib inline\n",
    "import os\n",
    "import sys\n",
    "os.chdir('..')\n",
    "sys.path.append('./')"
   ]
  },
  {
   "cell_type": "code",
   "execution_count": null,
   "metadata": {},
   "outputs": [],
   "source": [
    "import arrow\n",
    "from pipeline.datasources import DATASOURCES\n",
    "from pipeline import constants as c\n",
    "\n",
    "def import_data():\n",
    "    from quantifyme.infra.codecs.chunked_json import ChunkedJsonReader\n",
    "    data = {}\n",
    "    for src in DATASOURCES:\n",
    "        with open(src['out_file'], 'rb') as f:\n",
    "            events = list(ChunkedJsonReader(f))\n",
    "            events.sort(key=lambda e: e.t)\n",
    "            data[src['name']] = events\n",
    "    return data\n",
    "\n",
    "def balance_at(acc, t):\n",
    "    s = 0\n",
    "    for e in acc:\n",
    "        if e.t <= t:\n",
    "            s += e.delta\n",
    "    return s\n",
    "\n",
    "data = import_data()"
   ]
  },
  {
   "cell_type": "code",
   "execution_count": null,
   "metadata": {},
   "outputs": [],
   "source": [
    "x = [e.t.datetime for e in data[c.SCOTIA_ACCOUNT_CHQ]]\n",
    "y = np.cumsum([e.delta for e in data[c.SCOTIA_ACCOUNT_CHQ]])\n",
    "plt.plot(x, y)"
   ]
  },
  {
   "cell_type": "code",
   "execution_count": null,
   "metadata": {},
   "outputs": [],
   "source": [
    "x = [e.t.datetime for e in data[c.SCOTIA_ACCOUNT_CREDIT]]\n",
    "y = np.cumsum([e.delta for e in data[c.SCOTIA_ACCOUNT_CREDIT]])\n",
    "plt.plot(x, y)"
   ]
  },
  {
   "cell_type": "code",
   "execution_count": null,
   "metadata": {},
   "outputs": [],
   "source": []
  }
 ],
 "metadata": {
  "kernelspec": {
   "display_name": "Python 3",
   "language": "python",
   "name": "python3"
  },
  "language_info": {
   "codemirror_mode": {
    "name": "ipython",
    "version": 3
   },
   "file_extension": ".py",
   "mimetype": "text/x-python",
   "name": "python",
   "nbconvert_exporter": "python",
   "pygments_lexer": "ipython3",
   "version": "3.6.1"
  }
 },
 "nbformat": 4,
 "nbformat_minor": 2
}
